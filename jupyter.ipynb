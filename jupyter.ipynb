{
  "cells": [
    {
      "cell_type": "markdown",
      "metadata": {
        "id": "crPVEDSN71sl"
      },
      "source": [
        "<a href=\"https://colab.research.google.com/github/khamies/Piano-VAE/blob/master/play_with_model.ipynb\" \n",
        "target=\"_parent\"><img src=\"https://colab.research.google.com/assets/colab-badge.svg\" alt=\"Open In Colab\"/></a>"
      ]
    },
    {
      "cell_type": "code",
      "execution_count": 1,
      "metadata": {
        "colab": {
          "base_uri": "https://localhost:8080/"
        },
        "id": "akHUDpl5RRWk",
        "outputId": "0c87a1bf-1ae0-4156-aef2-8526781e929f"
      },
      "outputs": [
        {
          "name": "stderr",
          "output_type": "stream",
          "text": [
            "Cloning into 'Piano-VAE'...\n",
            "Updating files:  81% (888/1096)\n",
            "Updating files:  82% (899/1096)\n",
            "Updating files:  83% (910/1096)\n",
            "Updating files:  84% (921/1096)\n",
            "Updating files:  85% (932/1096)\n",
            "Updating files:  86% (943/1096)\n",
            "Updating files:  87% (954/1096)\n",
            "Updating files:  88% (965/1096)\n",
            "Updating files:  89% (976/1096)\n",
            "Updating files:  90% (987/1096)\n",
            "Updating files:  91% (998/1096)\n",
            "Updating files:  92% (1009/1096)\n",
            "Updating files:  93% (1020/1096)\n",
            "Updating files:  94% (1031/1096)\n",
            "Updating files:  95% (1042/1096)\n",
            "Updating files:  96% (1053/1096)\n",
            "Updating files:  97% (1064/1096)\n",
            "Updating files:  97% (1068/1096)\n",
            "Updating files:  98% (1075/1096)\n",
            "Updating files:  99% (1086/1096)\n",
            "Updating files: 100% (1096/1096)\n",
            "Updating files: 100% (1096/1096), done.\n"
          ]
        }
      ],
      "source": [
        "#@title Download data and files.\n",
        "!git clone https://github.com/Khamies/Piano-VAE.git\n",
        "import os \n",
        "os.chdir(\"Piano-VAE\")"
      ]
    },
    {
      "cell_type": "code",
      "execution_count": 2,
      "metadata": {
        "id": "bsX47UMWT0NT"
      },
      "outputs": [],
      "source": [
        "import torch\n",
        "from model import LSTM_MUSIC_VAE\n",
        "from dataset import PianoGenerationDataset\n",
        "from utils.utils import interpolate"
      ]
    },
    {
      "cell_type": "code",
      "execution_count": 3,
      "metadata": {
        "id": "veuuwsPUesKx"
      },
      "outputs": [],
      "source": [
        "from utils.midi.midi_utils import midiwrite"
      ]
    },
    {
      "cell_type": "code",
      "execution_count": 4,
      "metadata": {
        "id": "u6QyBIaJWGLI"
      },
      "outputs": [],
      "source": [
        "# Settings\n",
        "\n",
        "torch.manual_seed(1000)\n",
        "device = \"cuda\" if torch.cuda.is_available() else \"cpu\"\n",
        "\n",
        "batch_size = 32\n",
        "bptt = 60\n",
        "lr = 0.001\n",
        "\n",
        "embed_size = 300\n",
        "hidden_size = 256\n",
        "latent_size = 16\n",
        "lstm_layer=1\n",
        "notes_size = 88 #unique piano notes"
      ]
    },
    {
      "cell_type": "markdown",
      "metadata": {
        "id": "GcXo1SRDfIVm"
      },
      "source": [
        "## Load the data"
      ]
    },
    {
      "cell_type": "code",
      "execution_count": 5,
      "metadata": {
        "id": "k2uVseOtT_4J"
      },
      "outputs": [],
      "source": [
        "trainset = PianoGenerationDataset('./data/Nottingham/train/', longest_sequence_length=None)\n",
        "testset = PianoGenerationDataset('./data/Nottingham/test/', longest_sequence_length=None)\n",
        "\n",
        "train_loader = torch.utils.data.DataLoader(trainset, batch_size=batch_size,shuffle=True, drop_last=True)\n",
        "test_loader = torch.utils.data.DataLoader(trainset, batch_size=batch_size,shuffle=True, drop_last=True)"
      ]
    },
    {
      "cell_type": "markdown",
      "metadata": {
        "id": "mZ2jOq3se8-x"
      },
      "source": [
        "## Load the model"
      ]
    },
    {
      "cell_type": "code",
      "execution_count": 7,
      "metadata": {
        "colab": {
          "base_uri": "https://localhost:8080/"
        },
        "id": "jw2_Fc_9Vhh5",
        "outputId": "0ec4a059-bd39-4db1-be41-620958df99a0"
      },
      "outputs": [
        {
          "data": {
            "text/plain": [
              "<All keys matched successfully>"
            ]
          },
          "execution_count": 7,
          "metadata": {},
          "output_type": "execute_result"
        }
      ],
      "source": [
        "vocab_size = notes_size\n",
        "model = LSTM_MUSIC_VAE(vocab_size = vocab_size, embed_size = embed_size, hidden_size = hidden_size, latent_size = latent_size).to(device)\n",
        "\n",
        "\n",
        "checkpoint = torch.load(\"models/LSTM_Music_VAE.pt\", map_location=torch.device('cpu'))\n",
        "model.load_state_dict(checkpoint[\"model\"])"
      ]
    },
    {
      "cell_type": "markdown",
      "metadata": {
        "id": "7s4CNs1J4otu"
      },
      "source": [
        "##Sample Generation"
      ]
    },
    {
      "cell_type": "code",
      "execution_count": 8,
      "metadata": {
        "cellView": "code",
        "colab": {
          "base_uri": "https://localhost:8080/",
          "height": 17
        },
        "id": "PKhUHL_7Vg5X",
        "outputId": "e5e6cc08-efff-44bb-d0e0-3a0fb51d5ca9"
      },
      "outputs": [],
      "source": [
        "# Use pitch_index to set the note value (pitch) for the initial note.\n",
        "\n",
        "z = torch.randn(1,1,latent_size).to(device)\n",
        "sample = model.inference(50,z)\n",
        "midiwrite(\"sample.midi\",sample) "
      ]
    },
    {
      "cell_type": "markdown",
      "metadata": {
        "id": "28bR6fOLh7VS"
      },
      "source": [
        "# Interpolation"
      ]
    },
    {
      "cell_type": "code",
      "execution_count": 10,
      "metadata": {
        "colab": {
          "base_uri": "https://localhost:8080/",
          "height": 17
        },
        "id": "a_XvIj4l4QMi",
        "outputId": "f485b793-9b02-4918-bcfb-5f06fddeb424"
      },
      "outputs": [],
      "source": [
        "samples, tone1, tone2 = interpolate(model, n_interpolations= 32, sequence_length= 200)\n",
        "midiwrite(\"./tone1.midi\",tone1)\n",
        "midiwrite(\"./tone2.midi\",tone2)\n",
        "midiwrite(\"./sample_inter.midi\",samples[1])\n",
        "midiwrite(\"./sample_inter_2th.midi\",samples[4])"
      ]
    }
  ],
  "metadata": {
    "accelerator": "GPU",
    "colab": {
      "name": "Play.ipynb",
      "provenance": []
    },
    "kernelspec": {
      "display_name": "venv",
      "language": "python",
      "name": "python3"
    },
    "language_info": {
      "codemirror_mode": {
        "name": "ipython",
        "version": 3
      },
      "file_extension": ".py",
      "mimetype": "text/x-python",
      "name": "python",
      "nbconvert_exporter": "python",
      "pygments_lexer": "ipython3",
      "version": "3.13.2"
    }
  },
  "nbformat": 4,
  "nbformat_minor": 0
}
